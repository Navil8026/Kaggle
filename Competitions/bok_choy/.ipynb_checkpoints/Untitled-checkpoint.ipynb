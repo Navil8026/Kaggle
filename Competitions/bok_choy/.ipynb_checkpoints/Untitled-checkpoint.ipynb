{
 "cells": [
  {
   "cell_type": "code",
   "execution_count": 1,
   "id": "6adf680a",
   "metadata": {},
   "outputs": [
    {
     "name": "stdout",
     "output_type": "stream",
     "text": [
      "[name: \"/device:CPU:0\"\n",
      "device_type: \"CPU\"\n",
      "memory_limit: 268435456\n",
      "locality {\n",
      "}\n",
      "incarnation: 11035744846333293244\n",
      "xla_global_id: -1\n",
      ", name: \"/device:GPU:0\"\n",
      "device_type: \"GPU\"\n",
      "memory_limit: 4850712576\n",
      "locality {\n",
      "  bus_id: 1\n",
      "  links {\n",
      "  }\n",
      "}\n",
      "incarnation: 3141129771488165192\n",
      "physical_device_desc: \"device: 0, name: NVIDIA GeForce GTX 1060 6GB, pci bus id: 0000:01:00.0, compute capability: 6.1\"\n",
      "xla_global_id: 416903419\n",
      "]\n"
     ]
    }
   ],
   "source": [
    "import tensorflow as tf\n",
    "from tensorflow import keras\n",
    "import pandas as pd\n",
    "import numpy as np\n",
    "import glob\n",
    "import matplotlib.pyplot as plt\n",
    "from sklearn.model_selection import train_test_split\n",
    "from sklearn.metrics import mean_squared_error\n",
    "from sklearn.utils import shuffle\n",
    "from tensorflow.python.client import device_lib\n",
    "print(device_lib.list_local_devices())"
   ]
  },
  {
   "cell_type": "code",
   "execution_count": 2,
   "id": "83ed9fc7",
   "metadata": {},
   "outputs": [
    {
     "data": {
      "text/plain": [
       "'2.9.1'"
      ]
     },
     "execution_count": 2,
     "metadata": {},
     "output_type": "execute_result"
    }
   ],
   "source": [
    "tf.__version__"
   ]
  },
  {
   "cell_type": "code",
   "execution_count": 3,
   "id": "52e8b749",
   "metadata": {},
   "outputs": [],
   "source": [
    "all_input_list = sorted(glob.glob('./train_input/*.csv'))\n",
    "all_target_list = sorted(glob.glob('./train_target/*.csv'))"
   ]
  },
  {
   "cell_type": "code",
   "execution_count": 4,
   "id": "684af81c",
   "metadata": {},
   "outputs": [
    {
     "data": {
      "text/plain": [
       "['./train_input\\\\CASE_01.csv',\n",
       " './train_input\\\\CASE_02.csv',\n",
       " './train_input\\\\CASE_03.csv',\n",
       " './train_input\\\\CASE_04.csv',\n",
       " './train_input\\\\CASE_05.csv',\n",
       " './train_input\\\\CASE_06.csv',\n",
       " './train_input\\\\CASE_07.csv',\n",
       " './train_input\\\\CASE_08.csv',\n",
       " './train_input\\\\CASE_09.csv',\n",
       " './train_input\\\\CASE_10.csv',\n",
       " './train_input\\\\CASE_11.csv',\n",
       " './train_input\\\\CASE_12.csv',\n",
       " './train_input\\\\CASE_13.csv',\n",
       " './train_input\\\\CASE_14.csv',\n",
       " './train_input\\\\CASE_15.csv',\n",
       " './train_input\\\\CASE_16.csv',\n",
       " './train_input\\\\CASE_17.csv',\n",
       " './train_input\\\\CASE_18.csv',\n",
       " './train_input\\\\CASE_19.csv',\n",
       " './train_input\\\\CASE_20.csv',\n",
       " './train_input\\\\CASE_21.csv',\n",
       " './train_input\\\\CASE_22.csv',\n",
       " './train_input\\\\CASE_23.csv',\n",
       " './train_input\\\\CASE_24.csv',\n",
       " './train_input\\\\CASE_25.csv',\n",
       " './train_input\\\\CASE_26.csv',\n",
       " './train_input\\\\CASE_27.csv',\n",
       " './train_input\\\\CASE_28.csv',\n",
       " './train_input\\\\CASE_29.csv',\n",
       " './train_input\\\\CASE_30.csv',\n",
       " './train_input\\\\CASE_31.csv',\n",
       " './train_input\\\\CASE_32.csv',\n",
       " './train_input\\\\CASE_33.csv',\n",
       " './train_input\\\\CASE_34.csv',\n",
       " './train_input\\\\CASE_35.csv',\n",
       " './train_input\\\\CASE_36.csv',\n",
       " './train_input\\\\CASE_37.csv',\n",
       " './train_input\\\\CASE_38.csv',\n",
       " './train_input\\\\CASE_39.csv',\n",
       " './train_input\\\\CASE_40.csv',\n",
       " './train_input\\\\CASE_41.csv',\n",
       " './train_input\\\\CASE_42.csv',\n",
       " './train_input\\\\CASE_43.csv',\n",
       " './train_input\\\\CASE_44.csv',\n",
       " './train_input\\\\CASE_45.csv',\n",
       " './train_input\\\\CASE_46.csv',\n",
       " './train_input\\\\CASE_47.csv',\n",
       " './train_input\\\\CASE_48.csv',\n",
       " './train_input\\\\CASE_49.csv',\n",
       " './train_input\\\\CASE_50.csv']"
      ]
     },
     "execution_count": 4,
     "metadata": {},
     "output_type": "execute_result"
    }
   ],
   "source": [
    "train_input_list = all_input_list[:50]\n",
    "train_target_list = all_target_list[:50]\n",
    "\n",
    "val_input_list = all_input_list[50:]\n",
    "val_target_list = all_target_list[50:]\n",
    "train_input_list"
   ]
  },
  {
   "cell_type": "code",
   "execution_count": 5,
   "id": "fb1e09e3",
   "metadata": {},
   "outputs": [],
   "source": [
    "from tensorflow.keras.utils import Sequence\n",
    "import math\n",
    "from datetime import datetime, timedelta\n",
    "class CustomDataset(Sequence):\n",
    "    def __init__(self, input_paths, target_paths, batch_size = 32, shuffle = False):\n",
    "        self.x = input_paths\n",
    "        self.y = target_paths\n",
    "        self.shuffle = shuffle\n",
    "        self.batch_size = batch_size\n",
    "        \n",
    "        self.data_list = []\n",
    "        self.label_list = []\n",
    "        print('Data Pre-processing..')\n",
    "        for input_path, target_path in (zip(self.x, self.y)):\n",
    "            input_df = pd.read_csv(input_path)\n",
    "            target_df = pd.read_csv(target_path)\n",
    "            \n",
    "            input_df = input_df.drop(columns=['시간'])\n",
    "            input_df = input_df.fillna(0)\n",
    "            \n",
    "            input_length = int(len(input_df)/1440)\n",
    "            target_length = int(len(target_df))\n",
    "            \n",
    "            for idx in range(target_length):\n",
    "                time_series = input_df[1440*idx:1440*(idx+1)].values\n",
    "                self.data_list.append(pd.DataFrame(time_series))\n",
    "            for label in target_df[\"rate\"]:\n",
    "                self.label_list.append(label)\n",
    "        print('Done.')\n",
    "              \n",
    "    def __getitem__(self, index):\n",
    "        data = self.data_list[index]\n",
    "        label = self.label_list[index]\n",
    "        if self.batch_size == False:\n",
    "            return data, label\n",
    "        else:\n",
    "            return data\n",
    "        \n",
    "    def __len__(self):\n",
    "        return len(self.data_list)"
   ]
  },
  {
   "cell_type": "code",
   "execution_count": 6,
   "id": "793daba3",
   "metadata": {},
   "outputs": [
    {
     "name": "stdout",
     "output_type": "stream",
     "text": [
      "Data Pre-processing..\n",
      "Done.\n",
      "Data Pre-processing..\n",
      "Done.\n"
     ]
    }
   ],
   "source": [
    "train_dataset = CustomDataset(train_input_list, train_target_list)\n",
    "val_dataset = CustomDataset(val_target_list, val_target_list)"
   ]
  },
  {
   "cell_type": "code",
   "execution_count": 16,
   "id": "5d1da55a",
   "metadata": {},
   "outputs": [
    {
     "ename": "KeyboardInterrupt",
     "evalue": "",
     "output_type": "error",
     "traceback": [
      "\u001b[1;31m---------------------------------------------------------------------------\u001b[0m",
      "\u001b[1;31mKeyboardInterrupt\u001b[0m                         Traceback (most recent call last)",
      "Input \u001b[1;32mIn [16]\u001b[0m, in \u001b[0;36m<cell line: 1>\u001b[1;34m()\u001b[0m\n\u001b[0;32m      1\u001b[0m \u001b[38;5;28;01mfor\u001b[39;00m i \u001b[38;5;129;01min\u001b[39;00m \u001b[38;5;28mrange\u001b[39m(\u001b[38;5;28mlen\u001b[39m(train_dataset\u001b[38;5;241m.\u001b[39mdata_list)):\n\u001b[0;32m      2\u001b[0m     \u001b[38;5;28;01mfor\u001b[39;00m j \u001b[38;5;129;01min\u001b[39;00m \u001b[38;5;28mrange\u001b[39m(\u001b[38;5;28mlen\u001b[39m(train_dataset\u001b[38;5;241m.\u001b[39mdata_list[i])):\n\u001b[1;32m----> 3\u001b[0m         \u001b[38;5;28;01mfor\u001b[39;00m k \u001b[38;5;129;01min\u001b[39;00m \u001b[38;5;28mrange\u001b[39m(\u001b[38;5;28mlen\u001b[39m(train_dataset\u001b[38;5;241m.\u001b[39mdata_list[i][j])):\n\u001b[0;32m      4\u001b[0m             train_dataset\u001b[38;5;241m.\u001b[39mdata_list[i][j][k] \u001b[38;5;241m=\u001b[39m \u001b[38;5;28mfloat\u001b[39m(train_dataset\u001b[38;5;241m.\u001b[39mdata_list[i][j][k])\n",
      "\u001b[1;31mKeyboardInterrupt\u001b[0m: "
     ]
    }
   ],
   "source": [
    "# for i in range(len(train_dataset.data_list)):\n",
    "#     for j in range(len(train_dataset.data_list[i])):\n",
    "#         for k in range(len(train_dataset.data_list[i][j])):\n",
    "#             train_dataset.data_list[i][j][k] = float(train_dataset.data_list[i][j][k])"
   ]
  },
  {
   "cell_type": "code",
   "execution_count": 9,
   "id": "d9dbf640",
   "metadata": {},
   "outputs": [
    {
     "data": {
      "text/plain": [
       "numpy.float64"
      ]
     },
     "execution_count": 9,
     "metadata": {},
     "output_type": "execute_result"
    }
   ],
   "source": [
    "# type(train_dataset.label_list[0])\n",
    "type(train_dataset.data_list[0][0][0])"
   ]
  },
  {
   "cell_type": "code",
   "execution_count": 10,
   "id": "16f40821",
   "metadata": {},
   "outputs": [],
   "source": [
    "def MakeModel():\n",
    "    model = keras.models.Sequential()\n",
    "    model.add(keras.layers.LSTM(20, return_sequences=True, input_shape = [None, 1]))\n",
    "    model.add(keras.layers.LSTM(20, return_sequences=True))\n",
    "    model.add(keras.layers.TimeDistributed(keras.layers.Dense(1)))\n",
    "    \n",
    "    model.compile(loss = 'mse', optimizer = 'adam', metrics = ['mse'])\n",
    "    return model"
   ]
  },
  {
   "cell_type": "code",
   "execution_count": 11,
   "id": "17c050e1",
   "metadata": {},
   "outputs": [
    {
     "ename": "ValueError",
     "evalue": "Failed to find data adapter that can handle input: <class 'numpy.ndarray'>, <class 'float'>",
     "output_type": "error",
     "traceback": [
      "\u001b[1;31m---------------------------------------------------------------------------\u001b[0m",
      "\u001b[1;31mValueError\u001b[0m                                Traceback (most recent call last)",
      "Input \u001b[1;32mIn [11]\u001b[0m, in \u001b[0;36m<cell line: 2>\u001b[1;34m()\u001b[0m\n\u001b[0;32m      1\u001b[0m model \u001b[38;5;241m=\u001b[39m MakeModel()\n\u001b[1;32m----> 2\u001b[0m \u001b[43mmodel\u001b[49m\u001b[38;5;241;43m.\u001b[39;49m\u001b[43mfit\u001b[49m\u001b[43m(\u001b[49m\u001b[43mtrain_dataset\u001b[49m\u001b[38;5;241;43m.\u001b[39;49m\u001b[43mdata_list\u001b[49m\u001b[43m[\u001b[49m\u001b[38;5;241;43m0\u001b[39;49m\u001b[43m]\u001b[49m\u001b[43m,\u001b[49m\u001b[43m \u001b[49m\u001b[43mtrain_dataset\u001b[49m\u001b[38;5;241;43m.\u001b[39;49m\u001b[43mlabel_list\u001b[49m\u001b[43m[\u001b[49m\u001b[38;5;241;43m0\u001b[39;49m\u001b[43m]\u001b[49m\u001b[43m,\u001b[49m\u001b[43m \u001b[49m\u001b[43mepochs\u001b[49m\u001b[43m \u001b[49m\u001b[38;5;241;43m=\u001b[39;49m\u001b[43m \u001b[49m\u001b[38;5;241;43m5\u001b[39;49m\u001b[43m)\u001b[49m\n",
      "File \u001b[1;32m~\\Anaconda3\\lib\\site-packages\\keras\\utils\\traceback_utils.py:67\u001b[0m, in \u001b[0;36mfilter_traceback.<locals>.error_handler\u001b[1;34m(*args, **kwargs)\u001b[0m\n\u001b[0;32m     65\u001b[0m \u001b[38;5;28;01mexcept\u001b[39;00m \u001b[38;5;167;01mException\u001b[39;00m \u001b[38;5;28;01mas\u001b[39;00m e:  \u001b[38;5;66;03m# pylint: disable=broad-except\u001b[39;00m\n\u001b[0;32m     66\u001b[0m   filtered_tb \u001b[38;5;241m=\u001b[39m _process_traceback_frames(e\u001b[38;5;241m.\u001b[39m__traceback__)\n\u001b[1;32m---> 67\u001b[0m   \u001b[38;5;28;01mraise\u001b[39;00m e\u001b[38;5;241m.\u001b[39mwith_traceback(filtered_tb) \u001b[38;5;28;01mfrom\u001b[39;00m \u001b[38;5;28mNone\u001b[39m\n\u001b[0;32m     68\u001b[0m \u001b[38;5;28;01mfinally\u001b[39;00m:\n\u001b[0;32m     69\u001b[0m   \u001b[38;5;28;01mdel\u001b[39;00m filtered_tb\n",
      "File \u001b[1;32m~\\Anaconda3\\lib\\site-packages\\keras\\engine\\data_adapter.py:985\u001b[0m, in \u001b[0;36mselect_data_adapter\u001b[1;34m(x, y)\u001b[0m\n\u001b[0;32m    982\u001b[0m adapter_cls \u001b[38;5;241m=\u001b[39m [\u001b[38;5;28mcls\u001b[39m \u001b[38;5;28;01mfor\u001b[39;00m \u001b[38;5;28mcls\u001b[39m \u001b[38;5;129;01min\u001b[39;00m ALL_ADAPTER_CLS \u001b[38;5;28;01mif\u001b[39;00m \u001b[38;5;28mcls\u001b[39m\u001b[38;5;241m.\u001b[39mcan_handle(x, y)]\n\u001b[0;32m    983\u001b[0m \u001b[38;5;28;01mif\u001b[39;00m \u001b[38;5;129;01mnot\u001b[39;00m adapter_cls:\n\u001b[0;32m    984\u001b[0m   \u001b[38;5;66;03m# TODO(scottzhu): This should be a less implementation-specific error.\u001b[39;00m\n\u001b[1;32m--> 985\u001b[0m   \u001b[38;5;28;01mraise\u001b[39;00m \u001b[38;5;167;01mValueError\u001b[39;00m(\n\u001b[0;32m    986\u001b[0m       \u001b[38;5;124m\"\u001b[39m\u001b[38;5;124mFailed to find data adapter that can handle \u001b[39m\u001b[38;5;124m\"\u001b[39m\n\u001b[0;32m    987\u001b[0m       \u001b[38;5;124m\"\u001b[39m\u001b[38;5;124minput: \u001b[39m\u001b[38;5;132;01m{}\u001b[39;00m\u001b[38;5;124m, \u001b[39m\u001b[38;5;132;01m{}\u001b[39;00m\u001b[38;5;124m\"\u001b[39m\u001b[38;5;241m.\u001b[39mformat(\n\u001b[0;32m    988\u001b[0m           _type_name(x), _type_name(y)))\n\u001b[0;32m    989\u001b[0m \u001b[38;5;28;01melif\u001b[39;00m \u001b[38;5;28mlen\u001b[39m(adapter_cls) \u001b[38;5;241m>\u001b[39m \u001b[38;5;241m1\u001b[39m:\n\u001b[0;32m    990\u001b[0m   \u001b[38;5;28;01mraise\u001b[39;00m \u001b[38;5;167;01mRuntimeError\u001b[39;00m(\n\u001b[0;32m    991\u001b[0m       \u001b[38;5;124m\"\u001b[39m\u001b[38;5;124mData adapters should be mutually exclusive for \u001b[39m\u001b[38;5;124m\"\u001b[39m\n\u001b[0;32m    992\u001b[0m       \u001b[38;5;124m\"\u001b[39m\u001b[38;5;124mhandling inputs. Found multiple adapters \u001b[39m\u001b[38;5;132;01m{}\u001b[39;00m\u001b[38;5;124m to handle \u001b[39m\u001b[38;5;124m\"\u001b[39m\n\u001b[0;32m    993\u001b[0m       \u001b[38;5;124m\"\u001b[39m\u001b[38;5;124minput: \u001b[39m\u001b[38;5;132;01m{}\u001b[39;00m\u001b[38;5;124m, \u001b[39m\u001b[38;5;132;01m{}\u001b[39;00m\u001b[38;5;124m\"\u001b[39m\u001b[38;5;241m.\u001b[39mformat(\n\u001b[0;32m    994\u001b[0m           adapter_cls, _type_name(x), _type_name(y)))\n",
      "\u001b[1;31mValueError\u001b[0m: Failed to find data adapter that can handle input: <class 'numpy.ndarray'>, <class 'float'>"
     ]
    }
   ],
   "source": [
    "model = MakeModel()\n",
    "model.fit(train_dataset.data_list[0], train_dataset.label_list[0], epochs = 5)"
   ]
  },
  {
   "cell_type": "code",
   "execution_count": null,
   "id": "5456415f",
   "metadata": {},
   "outputs": [],
   "source": []
  }
 ],
 "metadata": {
  "kernelspec": {
   "display_name": "Python 3 (ipykernel)",
   "language": "python",
   "name": "python3"
  },
  "language_info": {
   "codemirror_mode": {
    "name": "ipython",
    "version": 3
   },
   "file_extension": ".py",
   "mimetype": "text/x-python",
   "name": "python",
   "nbconvert_exporter": "python",
   "pygments_lexer": "ipython3",
   "version": "3.9.12"
  }
 },
 "nbformat": 4,
 "nbformat_minor": 5
}
